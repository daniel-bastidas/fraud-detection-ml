{
 "cells": [
  {
   "cell_type": "markdown",
   "id": "508c5fa6",
   "metadata": {},
   "source": [
    "# 03_modeling.ipynb\n",
    "\n",
    "Comparativa LightGBM vs XGBoost, calibracion (isotonic), threshold selection."
   ]
  },
  {
   "cell_type": "code",
   "execution_count": 45,
   "id": "1e42a1b4",
   "metadata": {},
   "outputs": [],
   "source": [
    "# --- Imports ---\n",
    "import os, json, joblib                \n",
    "import numpy as np                      \n",
    "import pandas as pd\n",
    "import matplotlib.pyplot as plt\n",
    "from sklearn.metrics import confusion_matrix, precision_score, recall_score\n",
    "\n",
    "from sklearn.metrics import (\n",
    "    roc_auc_score,                          # ROC-AUC: useful overall\n",
    "    average_precision_score,                # PR-AUC (AP): métrica principal\n",
    "    precision_recall_curve                  # curva P-R para thresholds\n",
    ")\n",
    "from sklearn.calibration import CalibratedClassifierCV  # isotonic\n",
    "from sklearn.utils.class_weight import compute_sample_weight  # imbalance weights aid"
   ]
  },
  {
   "cell_type": "code",
   "execution_count": 3,
   "id": "f1184f70-0ddc-4f5a-8531-b8722a6ef014",
   "metadata": {},
   "outputs": [],
   "source": [
    "# --- Modelos candidatos ---\n",
    "try:\n",
    "    import lightgbm as lgb                  # LightGBM\n",
    "except Exception:\n",
    "    lgb = None\n",
    "    print(\"LightGBM no disponible. Instalalo\")\n",
    "\n",
    "try:\n",
    "    import xgboost as xgb                   # XGBoost\n",
    "except Exception:\n",
    "    xgb = None\n",
    "    print(\"XGBoost no disponible. Instalalo\")"
   ]
  },
  {
   "cell_type": "code",
   "execution_count": 5,
   "id": "5c24de8f-0dce-4d60-b48b-fa5a89fbeb80",
   "metadata": {},
   "outputs": [],
   "source": [
    "# --- Useful vars ---\n",
    "TARGET = \"fraude\"\n",
    "RANDOM_STATE = 42"
   ]
  },
  {
   "cell_type": "code",
   "execution_count": 7,
   "id": "c12336be",
   "metadata": {},
   "outputs": [
    {
     "name": "stdout",
     "output_type": "stream",
     "text": [
      "Shapes -> (105000, 16) (22500, 16) (22500, 16)\n"
     ]
    }
   ],
   "source": [
    "# --- Cargar datasets procesados ---\n",
    "train = pd.read_csv(\"./train_processed.csv\")\n",
    "val   = pd.read_csv(\"./val_processed.csv\")\n",
    "test  = pd.read_csv(\"./test_processed.csv\")\n",
    "\n",
    "X_tr, y_tr = train.drop(columns=[TARGET, \"monto_raw\"]), train[TARGET].astype(int)\n",
    "X_va, y_va = val.drop(columns=[TARGET, \"monto_raw\"]),   val[TARGET].astype(int)\n",
    "X_te, y_te = test.drop(columns=[TARGET, \"monto_raw\"]),  test[TARGET].astype(int)\n",
    "\n",
    "amount_va = val[\"monto_raw\"].astype(float).values\n",
    "amount_te = test[\"monto_raw\"].astype(float).values\n",
    "\n",
    "print(\"Shapes ->\", X_tr.shape, X_va.shape, X_te.shape)"
   ]
  },
  {
   "cell_type": "code",
   "execution_count": 9,
   "id": "91476e6f-4195-4f76-aa6c-bd17f7e19969",
   "metadata": {},
   "outputs": [],
   "source": [
    "# --- Metricas y utilidades ---\n",
    "def eval_binary(y_true, y_prob, name=\"\"):\n",
    "    \"\"\"\n",
    "    Evalua un modelo con target binario en base a ROC-AUC y PR-AUC.\n",
    "\n",
    "    Parametros\n",
    "    ----------\n",
    "    y_true : array-like\n",
    "        Valores reales (0 = legit, 1 = fraud).\n",
    "    y_prob : array-like\n",
    "        Probabilidades predichas de fraude.\n",
    "    name : str, opcional\n",
    "        Nombre del modelo/ejecucion (para logging).\n",
    "\n",
    "    Retorna\n",
    "    -------\n",
    "    dict\n",
    "        Diccionario con nombre, ROC-AUC y PR-AUC.\n",
    "    \"\"\"\n",
    "    return {\n",
    "        \"name\": name,\n",
    "        \"roc_auc\": float(roc_auc_score(y_true, y_prob)),\n",
    "        \"pr_auc\": float(average_precision_score(y_true, y_prob)),\n",
    "    }\n",
    "\n",
    "\n",
    "def profit_total(y_true, y_prob, amount, thr):\n",
    "    \"\"\"\n",
    "    Calcula la ganancia total con base en el umbral de decision.\n",
    "\n",
    "    Regla:\n",
    "    - Si prob_fraude < thr → aprobar transaccion.\n",
    "    - Si prob_fraude >= thr → bloquear transaccion.\n",
    "\n",
    "    Ganancia: +25% del monto para transacciones legitimas aprobadas.  \n",
    "    Perdida: -100% del monto para fraudes aprobados.\n",
    "\n",
    "    Parametros\n",
    "    ----------\n",
    "    y_true : array-like\n",
    "        Etiquetas reales (0 = legitimo, 1 = fraude).\n",
    "    y_prob : array-like\n",
    "        Probabilidades predichas de fraude.\n",
    "    amount : array-like\n",
    "        Montos asociados a cada transaccion.\n",
    "    thr : float\n",
    "        Umbral de decisión.\n",
    "\n",
    "    Retorna\n",
    "    -------\n",
    "    float\n",
    "        Ganancia neta calculada.\n",
    "    \"\"\"\n",
    "    approve = (y_prob < thr)\n",
    "    legit, fraud = (y_true == 0), (y_true == 1)\n",
    "\n",
    "    gain = 0.25 * amount[approve & legit].sum()\n",
    "    loss = 1.00 * amount[approve & fraud].sum()\n",
    "\n",
    "    return float(gain - loss)\n",
    "\n",
    "\n",
    "def best_threshold_by_profit(y_true, y_prob, amount):\n",
    "    \"\"\"\n",
    "    Encuentra el umbral que maximiza la ganancia.\n",
    "\n",
    "    Itera sobre una grilla de posibles umbrales [0.01, 0.99]  \n",
    "    y selecciona el que maximiza profit_total.\n",
    "\n",
    "    Parametros\n",
    "    ----------\n",
    "    y_true : array-like\n",
    "        Etiquetas reales (0 = legit, 1 = fraud).\n",
    "    y_prob : array-like\n",
    "        Probabilidades predichas de fraude.\n",
    "    amount : array-like\n",
    "        Montos asociados a cada transaccion.\n",
    "\n",
    "    Retorna\n",
    "    -------\n",
    "    dict\n",
    "        Diccionario con umbral optimo ('thr') y ganancia maxima ('profit').\n",
    "    \"\"\"\n",
    "    best = {\"thr\": 0.5, \"profit\": -1e18}\n",
    "    for t in np.linspace(0.01, 0.99, 99):\n",
    "        p = profit_total(y_true, y_prob, amount, t)\n",
    "        if p > best[\"profit\"]:\n",
    "            best = {\"thr\": float(t), \"profit\": float(p)}\n",
    "    return best"
   ]
  },
  {
   "cell_type": "code",
   "execution_count": 13,
   "id": "020c39bc",
   "metadata": {},
   "outputs": [
    {
     "name": "stdout",
     "output_type": "stream",
     "text": [
      "[LightGBM] [Info] Number of positive: 5250, number of negative: 99750\n",
      "[LightGBM] [Info] Auto-choosing row-wise multi-threading, the overhead of testing was 0.002067 seconds.\n",
      "You can set `force_row_wise=true` to remove the overhead.\n",
      "And if memory is not enough, you can set `force_col_wise=true`.\n",
      "[LightGBM] [Info] Total Bins 2523\n",
      "[LightGBM] [Info] Number of data points in the train set: 105000, number of used features: 16\n",
      "[LightGBM] [Info] [binary:BoostFromScore]: pavg=0.950000 -> initscore=2.944439\n",
      "[LightGBM] [Info] Start training from score 2.944439\n"
     ]
    },
    {
     "data": {
      "text/html": [
       "<div>\n",
       "<style scoped>\n",
       "    .dataframe tbody tr th:only-of-type {\n",
       "        vertical-align: middle;\n",
       "    }\n",
       "\n",
       "    .dataframe tbody tr th {\n",
       "        vertical-align: top;\n",
       "    }\n",
       "\n",
       "    .dataframe thead th {\n",
       "        text-align: right;\n",
       "    }\n",
       "</style>\n",
       "<table border=\"1\" class=\"dataframe\">\n",
       "  <thead>\n",
       "    <tr style=\"text-align: right;\">\n",
       "      <th></th>\n",
       "      <th>name</th>\n",
       "      <th>roc_auc</th>\n",
       "      <th>pr_auc</th>\n",
       "      <th>thr</th>\n",
       "      <th>profit</th>\n",
       "    </tr>\n",
       "  </thead>\n",
       "  <tbody>\n",
       "    <tr>\n",
       "      <th>0</th>\n",
       "      <td>lightgbm</td>\n",
       "      <td>0.788371</td>\n",
       "      <td>0.304828</td>\n",
       "      <td>0.97</td>\n",
       "      <td>165040.2775</td>\n",
       "    </tr>\n",
       "    <tr>\n",
       "      <th>1</th>\n",
       "      <td>xgboost</td>\n",
       "      <td>0.803696</td>\n",
       "      <td>0.326877</td>\n",
       "      <td>0.75</td>\n",
       "      <td>166278.9300</td>\n",
       "    </tr>\n",
       "  </tbody>\n",
       "</table>\n",
       "</div>"
      ],
      "text/plain": [
       "       name   roc_auc    pr_auc   thr       profit\n",
       "0  lightgbm  0.788371  0.304828  0.97  165040.2775\n",
       "1   xgboost  0.803696  0.326877  0.75  166278.9300"
      ]
     },
     "execution_count": 13,
     "metadata": {},
     "output_type": "execute_result"
    }
   ],
   "source": [
    "# --- Baseline training ---\n",
    "results_val = []   # store eval metrics\n",
    "models = {}        # store fitted estimators and val probs\n",
    "\n",
    "# Ponderaciones por desbalance\n",
    "pos_weight   = (y_tr == 0).sum() / (y_tr == 1).sum()              # para XGBoost (scale_pos_weight)\n",
    "sample_weight = compute_sample_weight(\"balanced\", y_tr)            # para LightGBM (class_weight)\n",
    "\n",
    "# --- LightGBM ---\n",
    "if lgb is not None:\n",
    "    lgbm = lgb.LGBMClassifier(\n",
    "        random_state=RANDOM_STATE,\n",
    "        n_estimators=500,           # baseline\n",
    "        learning_rate=0.05,\n",
    "        num_leaves=63,\n",
    "        max_depth=-1,\n",
    "        subsample=0.8,\n",
    "        colsample_bytree=0.8,\n",
    "        class_weight=\"balanced\"\n",
    "    )\n",
    "    # Nota: algunas versiones NO aceptan verbose=... en fit(). Usar callbacks para silenciar logs.\n",
    "    lgbm.fit(\n",
    "        X_tr, y_tr,\n",
    "        sample_weight=sample_weight,\n",
    "        eval_set=[(X_va, y_va)],\n",
    "        eval_metric=\"auc\",\n",
    "        callbacks=[lgb.log_evaluation(period=0)]   # silencia logging\n",
    "    )\n",
    "    prob_va = lgbm.predict_proba(X_va)[:, 1]\n",
    "\n",
    "    # metricas estandar\n",
    "    metrics = eval_binary(y_va, prob_va, \"lightgbm\")\n",
    "\n",
    "    # metrica de negocio (profit) con monto_raw del DF de validacion\n",
    "    best_thr = best_threshold_by_profit(y_va.values, prob_va, amount_va)\n",
    "    metrics.update(best_thr)\n",
    "\n",
    "    results_val.append(metrics)\n",
    "    models[\"lightgbm\"] = {\"estimator\": lgbm, \"val_prob\": prob_va}\n",
    "\n",
    "# --- XGBoost ---\n",
    "if xgb is not None:\n",
    "    xgbm = xgb.XGBClassifier(\n",
    "        random_state=RANDOM_STATE,\n",
    "        n_estimators=500,\n",
    "        learning_rate=0.05,\n",
    "        max_depth=6,\n",
    "        subsample=0.8,\n",
    "        colsample_bytree=0.8,\n",
    "        reg_lambda=1.0,\n",
    "        scale_pos_weight=float(pos_weight),\n",
    "        tree_method=\"hist\"\n",
    "    )\n",
    "    # XGBoost sí soporta verbose en fit(); si molesta el log, verbose=False.\n",
    "    xgbm.fit(X_tr, y_tr, eval_set=[(X_va, y_va)], verbose=False)\n",
    "    prob_va = xgbm.predict_proba(X_va)[:, 1]\n",
    "\n",
    "    metrics = eval_binary(y_va, prob_va, \"xgboost\")\n",
    "    best_thr = best_threshold_by_profit(y_va.values, prob_va, amount_va)\n",
    "    metrics.update(best_thr)\n",
    "\n",
    "    results_val.append(metrics)\n",
    "    models[\"xgboost\"] = {\"estimator\": xgbm, \"val_prob\": prob_va}\n",
    "\n",
    "# Resumen de metricas (PR-AUC principal, ROC-AUC secundario, + thr/profit)\n",
    "pd.DataFrame(results_val)\n"
   ]
  },
  {
   "cell_type": "markdown",
   "id": "45993d48-6aea-41e4-a98f-471fd5dfb72a",
   "metadata": {},
   "source": [
    "Baseline -comparativa de modelos (val)\n",
    "\n",
    "Metrica principal: PR-AUC por desbalance (~5% fraude). ROC-AUC queda como referencia.\n",
    "\n",
    "Negocio incluido: ademas de las metricas, calculamos thr y profit usando la regla del enunciado (aprobado legit +25%, aprobado fraude −100%) con monto_raw.\n",
    "\n",
    "Lectura rapida: XGBoost > LightGBM en PR-AUC; las diferencias son lo esperado, XGB se iba es mas robusto ante el desbalance y maneja mejor el noise de artifacts, tambien maneja mejor el low signal por parte de las features, menos riesgo de un modelo overconfident.\n",
    "\n",
    "Nota: estos thr/profit son previos a calibración; el umbral operativo definitivo se selecciona despues de calibrar."
   ]
  },
  {
   "cell_type": "code",
   "execution_count": 15,
   "id": "a1b31f6b",
   "metadata": {},
   "outputs": [
    {
     "name": "stdout",
     "output_type": "stream",
     "text": [
      "Mejor modelo en PR-AUC (val): xgboost\n"
     ]
    },
    {
     "data": {
      "text/plain": [
       "{'name': 'xgboost_val',\n",
       " 'roc_auc': 0.803695615334633,\n",
       " 'pr_auc': 0.3268774853862587}"
      ]
     },
     "execution_count": 15,
     "metadata": {},
     "output_type": "execute_result"
    }
   ],
   "source": [
    "# --- Best model selection PR-AUC (en validacion) ---\n",
    "if not results_val:\n",
    "    raise RuntimeError(\"No se entrenaron modelos. Instala LightGBM o XGBoost.\" )\n",
    "\n",
    "best_name = max(results_val, key=lambda d: d[\"pr_auc\"])['name']  # mayor PR-AUC\n",
    "best_est  = models[best_name][\"estimator\"]                      # referencia al estimador\n",
    "best_prob_va = models[best_name][\"val_prob\"]                    # probabilidades en val\n",
    "\n",
    "print(\"Mejor modelo en PR-AUC (val):\", best_name)\n",
    "best_metrics_val = eval_binary(y_va, best_prob_va, f\"{best_name}_val\")\n",
    "best_metrics_val\n"
   ]
  },
  {
   "cell_type": "markdown",
   "id": "50e1f193-42d2-4422-aa8e-6b056cc92d31",
   "metadata": {},
   "source": [
    "Criterio de selección: mayor PR-AUC en validacion (hold-out). Se evita lekeage y optimism bias al usar validacion para calibrar y test independiente para evaluacion final.\n",
    "\n",
    "Reproducibilidad: seed y mismo feature set para ambos modelos.\n",
    "\n",
    "Plan: fijamos este estimador como “best_est” y llevamos sus probabilidades a calibracion. El otro queda como benchmark."
   ]
  },
  {
   "cell_type": "code",
   "execution_count": 17,
   "id": "16ad3ede",
   "metadata": {},
   "outputs": [
    {
     "data": {
      "text/plain": [
       "{'name': 'xgboost_val_calibrated',\n",
       " 'roc_auc': 0.8065963456790124,\n",
       " 'pr_auc': 0.31736922222647723}"
      ]
     },
     "execution_count": 17,
     "metadata": {},
     "output_type": "execute_result"
    }
   ],
   "source": [
    "# --- Calibration (isotonic, sobre validacion) ---\n",
    "# Nota: usamos cv=\"prefit\" porque ya entrenamos el modelo con todo TRAIN.\n",
    "cal = CalibratedClassifierCV(best_est, method=\"isotonic\", cv=\"prefit\")\n",
    "cal.fit(X_va, y_va)\n",
    "prob_va_cal = cal.predict_proba(X_va)[:,1]        # probs calibradas en val\n",
    "eval_binary(y_va, prob_va_cal, f\"{best_name}_val_calibrated\")\n"
   ]
  },
  {
   "cell_type": "markdown",
   "id": "1ac02285-51b9-4ab1-97c9-45e821744c41",
   "metadata": {},
   "source": [
    "Por que: el negocio usa probabilidades → necesito probabilidades bien calibradas (no solo ranking)\n",
    "\n",
    "Como: CalibratedClassifierCV con method=\"isotonic\" y cv=\"prefit\" (se calibra sobre val, no sobre train)\n",
    "\n",
    "Efecto esperado: pequeñas variaciones en PR/ROC; mejora en decisiones por umbral (EV/profit).\n",
    "\n",
    "Alternativas: Platt (sigmoide) es mas enlatado y honestly no lo uso, me quedo con los basic; isotonica se adapta mejor cuando la curva no es sigmoidal\n",
    "\n",
    "Higiene: calibrar con val."
   ]
  },
  {
   "cell_type": "code",
   "execution_count": 23,
   "id": "030befd3",
   "metadata": {},
   "outputs": [
    {
     "name": "stdout",
     "output_type": "stream",
     "text": [
      "Best threshold by profit: {'thr': 0.16, 'profit': 166184.02000000002}\n"
     ]
    }
   ],
   "source": [
    "# --- Seleccion de threshold por ganancia (en validacion) ---\n",
    "# Usa las probabilidades calibradas y el monto_raw de VALIDATION\n",
    "best_thr = best_threshold_by_profit(\n",
    "    y_va.values,          # etiquetas val\n",
    "    prob_va_cal,          # probs calibradas en val\n",
    "    amount_va             # = val[\"monto_raw\"].values\n",
    ")\n",
    "print(\"Best threshold by profit:\", best_thr)"
   ]
  },
  {
   "cell_type": "markdown",
   "id": "e4a35677-67ce-4841-abc9-573db9cd32c5",
   "metadata": {},
   "source": [
    "Objetivo: **maximizar ganancia**\n",
    "\n",
    "Regla de decision: aprobar si prob < thr, bloquear si ≥ thr.\n",
    "\n",
    "Resultado: thr ≈ 0.16 con ganancia maxima en validacion. Interpretacion: bloqueamos cuando el modelo asigna ≥16% de prob. de fraude.\n",
    "\n",
    "Thinking out loud: si las probabilidades fueran perfectas, el punto neutro seria p* = 0.25 / (1 + 0.25) = 0.20.\n",
    "Que el optimo empirico sea ~0.16 sugiere calibracion/ruido y/o trade-offs propios del set de validacion.\n",
    "\n",
    "Robustez: si cambia el margen o el costo de fraude, basta recomputar el umbral (no reentrenar el modelo)."
   ]
  },
  {
   "cell_type": "code",
   "execution_count": 25,
   "id": "6998b7cd",
   "metadata": {},
   "outputs": [
    {
     "data": {
      "text/plain": [
       "{'roc_auc': 0.8139993450292399,\n",
       " 'pr_auc': 0.32213591238364464,\n",
       " 'profit_at_thr': 165145.315}"
      ]
     },
     "execution_count": 25,
     "metadata": {},
     "output_type": "execute_result"
    }
   ],
   "source": [
    "# --- Evaluacion final en TEST (misma politica) ---\n",
    "prob_te_cal = cal.predict_proba(X_te)[:, 1]  # probs calibradas en test\n",
    "\n",
    "metrics_test = {\n",
    "    \"roc_auc\": float(roc_auc_score(y_te, prob_te_cal)),\n",
    "    \"pr_auc\":  float(average_precision_score(y_te, prob_te_cal)),\n",
    "}\n",
    "\n",
    "# Ganancia en test usando el threshold elegido en validacion\n",
    "profit_test = profit_total(y_te.values, prob_te_cal, amount_te, best_thr[\"thr\"])\n",
    "metrics_test[\"profit_at_thr\"] = float(profit_test)\n",
    "metrics_test\n"
   ]
  },
  {
   "cell_type": "code",
   "execution_count": 29,
   "id": "47af5895",
   "metadata": {},
   "outputs": [
    {
     "name": "stdout",
     "output_type": "stream",
     "text": [
      "Saved: model_best_prefit.pkl | model_best_calibrated.pkl | threshold.json | metrics_test.json\n"
     ]
    }
   ],
   "source": [
    "# --- Guardado de artefactos ---\n",
    "# Guardamos:\n",
    "# - Modelo pre-calibracion (para referencia)\n",
    "# - Modelo calibrado (para inferencia)\n",
    "# - Umbral optimo y costos utilizados (JSON)\n",
    "# - Metricas finales en test (JSON)\n",
    "joblib.dump(best_est, \"./model_best_prefit.pkl\")\n",
    "joblib.dump(cal, \"./model_best_calibrated.pkl\")\n",
    "\n",
    "with open(\"./threshold.json\", \"w\") as f:\n",
    "    json.dump({\"thr\": best_thr[\"thr\"], \"profit_val\": best_thr[\"profit\"],\n",
    "               \"policy\": \"block if P(fraud) >= thr\"}, f, indent=2)\n",
    "\n",
    "with open(\"./metrics_test.json\", \"w\") as f:\n",
    "    json.dump(metrics_test, f, indent=2)\n",
    "\n",
    "print(\"Saved: model_best_prefit.pkl | model_best_calibrated.pkl | threshold.json | metrics_test.json\")"
   ]
  },
  {
   "cell_type": "code",
   "execution_count": null,
   "id": "cb90e6b9-cbca-4dec-b1c9-ca96470675c3",
   "metadata": {},
   "outputs": [],
   "source": []
  },
  {
   "cell_type": "code",
   "execution_count": 31,
   "id": "3703ce86-e594-4764-b4bb-c4f0f9aa1723",
   "metadata": {},
   "outputs": [
    {
     "name": "stdout",
     "output_type": "stream",
     "text": [
      "{'thr': 0.16, 'approve_rate': 0.9560444444444445, 'flag_rate': 0.04395555555555555, 'precision': 0.3902932254802831, 'recall': 0.3431111111111111, 'cm': [[20772, 603], [739, 386]], 'profit_at_thr': 165145.315}\n"
     ]
    }
   ],
   "source": [
    "# 1 --- Confusion/operating point (test) ---\n",
    "thr = best_thr[\"thr\"]\n",
    "pred = (prob_te_cal >= thr).astype(int)   # predicted class\n",
    "cm = confusion_matrix(y_te, pred)\n",
    "prec = precision_score(y_te, pred)\n",
    "rec  = recall_score(y_te, pred)\n",
    "flag_rate = pred.mean()                   # % de transacciones bloqueadas\n",
    "approve_rate = 1 - flag_rate              # % de transacciones aprobadas\n",
    "\n",
    "print({\n",
    "    \"thr\": thr,\n",
    "    \"approve_rate\": approve_rate,\n",
    "    \"flag_rate\": flag_rate,\n",
    "    \"precision\": prec,\n",
    "    \"recall\": rec,\n",
    "    \"cm\": cm.tolist(),\n",
    "    \"profit_at_thr\": metrics_test[\"profit_at_thr\"]\n",
    "})\n"
   ]
  },
  {
   "cell_type": "code",
   "execution_count": 52,
   "id": "769567a7-6150-46ee-90cd-3756225d6d37",
   "metadata": {},
   "outputs": [
    {
     "name": "stdout",
     "output_type": "stream",
     "text": [
      "Top 1% (n=225): profit_review=10,905.76\n",
      "Top 5% (n=1125): profit_review=25,382.95\n",
      "Top 10% (n=2250): profit_review=24,248.37\n"
     ]
    }
   ],
   "source": [
    "# 2 --- Top-k lift table (Manual review & block top-K) ---\n",
    "df_te = test.copy()\n",
    "df_te[\"p\"] = prob_te_cal\n",
    "df_te[\"y\"] = y_te.values\n",
    "df_te = df_te.sort_values(\"p\", ascending=False)  # highest risk first\n",
    "\n",
    "for k in [0.01, 0.05, 0.10]:\n",
    "    n   = int(len(df_te) * k)\n",
    "    top = df_te.iloc[:n]\n",
    "\n",
    "    # If we review & block these top-K:\n",
    "    savings_fraud = top.loc[top.y == 1, \"monto_raw\"].sum()          # avoid 100% loss\n",
    "    opp_cost_legit = 0.25 * top.loc[top.y == 0, \"monto_raw\"].sum()  # lose 25% margin\n",
    "    profit_review = savings_fraud - opp_cost_legit\n",
    "\n",
    "    print(f\"Top {int(k*100)}% (n={n}): profit_review={profit_review:,.2f}\")"
   ]
  },
  {
   "cell_type": "code",
   "execution_count": 35,
   "id": "a89b7a05-1a4c-44a2-b2ae-ef06b331d3fb",
   "metadata": {},
   "outputs": [
    {
     "name": "stdout",
     "output_type": "stream",
     "text": [
      "score          0.171889\n",
      "n              0.145865\n",
      "j_te           0.143246\n",
      "g_freq         0.083356\n",
      "f              0.046009\n",
      "l              0.044164\n",
      "m              0.041426\n",
      "a              0.039643\n",
      "monto_log1p    0.038373\n",
      "b              0.037359\n",
      "p              0.036390\n",
      "d              0.035543\n",
      "e              0.035292\n",
      "c              0.034803\n",
      "h              0.034193\n",
      "dtype: float32\n"
     ]
    }
   ],
   "source": [
    "# 3 --- Quick feature importance ---\n",
    "imp = pd.Series(best_est.feature_importances_, index=X_te.columns).sort_values(ascending=False)\n",
    "print(imp.head(15))"
   ]
  },
  {
   "cell_type": "markdown",
   "id": "60cce66c-1db1-4b55-8778-58274a865383",
   "metadata": {},
   "source": [
    "### Evaluacion final en test y analisis adicional\n",
    "\n",
    "**1. Operating point (test, umbral optimo ≈ 0.16):**  \n",
    "El modelo aprueba ~95.6% de las transacciones, bloquea ~4.4% como fraude y logra una **ganancia neta de ~165k** bajo la regla de negocio.\n",
    "- **Precision ≈ 0.39, Recall ≈ 0.34** → el recall es moderado tirando a bajo, pero es consistente con un umbral conservador ***optimizado a ganancia.***\n",
    "- La matriz de confusion muestra que aun hay fraudes que pasan, mas de lo que me gustaria, sin embargo el costo queda compensado por el alto volumen de legitimas aprobadas.\n",
    "\n",
    "---\n",
    "\n",
    "***2 Lift table (manual review del top-N más riesgosos)***\n",
    "\n",
    "**Escenario:** ordenamos las transacciones por probabilidad de fraude (desc) y simulamos que un analista **revisa y bloquea** el top 1%, 5% y 10%.  \n",
    "La ganancia de negocio en este escenario es:\n",
    "\n",
    "**Resultados (test):**\n",
    "- **Top 1%**: ≈ $10.9k de ganancia por revision.\n",
    "  \n",
    "- **Top 5%**: ≈ $25.4k acumulados.\n",
    "  \n",
    "- **Top 10%**: ≈ $242.5k acumulados.\n",
    "\n",
    "**Lectura:** el modelo **prioriza correctamente** los casos de mayor riesgo: con un % pequeño de revision ya se obtiene ganancia positiva.  \n",
    "**Uso operativo:** elegir el % a revisar depende de la **capacidad del equipo** y del **costo de revision** (no contemplado ni muchi menos modelado aqui). Si cambia el margen o las reglas de negocio, basta **recalcular** esta tabla.\n",
    "\n",
    "> Nota: este analisis de *manual review* es **independiente** del threshold usado en produccion; solo sirve para planificar el human on the loop.\n",
    "---\n",
    "\n",
    "**3. Importancia de variables:**  \n",
    "El ranking de importancias confirma la intuicion que nos dejo el EDA:\n",
    "- **`score`**, **`j_te`** y **`g_freq`** aparecen como predictores clave. Por suerte no tan overconfident en alguna de estas como se anticipaba podia pasar con casos como el score, aveces estas features son leaky.\n",
    "- Variables transformadas como **`monto_log1p`** tambien aportan, validando que el escalado/log ayuda al modelo.\n",
    "- El resto (ej. `a`, `b`, `c`) mantiene valor marginal, discreto, pero consistente.\n",
    "\n",
    "---\n",
    "\n",
    "**Conclusion:**  \n",
    "El modelo calibrado y optimizado por ganancia no solo mejora el PR-AUC, sino que muestra **utilidad practica en escenarios reales de operacion y revisión manual**. Esto valida el pipeline end-to-end y sienta base para mejoras futuras (ensembles, mas features temporales, etc.).\n"
   ]
  },
  {
   "cell_type": "code",
   "execution_count": 49,
   "id": "af821897-9ed7-4ede-8a1c-eb0056520911",
   "metadata": {},
   "outputs": [
    {
     "data": {
      "image/png": "[encoded data removed]",
      "text/plain": [
       "<Figure size 700x500 with 1 Axes>"
      ]
     },
     "metadata": {},
     "output_type": "display_data"
    }
   ],
   "source": [
    "# --- Feature importance bar chart (top-N) ---\n",
    "\n",
    "N = 15  # top-N\n",
    "imp = pd.Series(best_est.feature_importances_, index=X_te.columns).sort_values(ascending=False)\n",
    "imp_top = imp.head(N)[::-1]  # reverse for nicer horizontal ordering\n",
    "\n",
    "plt.figure(figsize=(7,5))\n",
    "plt.barh(imp_top.index, imp_top.values)\n",
    "plt.xlabel(\"Importancia (gain/split según modelo)\")\n",
    "plt.title(f\"Importancia de variables (top {N}) - {best_name}\")\n",
    "plt.tight_layout()\n",
    "plt.savefig(\"plot_feature_importance_topN.png\", dpi=200)\n",
    "plt.savefig(\"plot_feature_importance_topN.svg\")\n",
    "plt.show()"
   ]
  },
  {
   "cell_type": "code",
   "execution_count": null,
   "id": "58dc3601-72ec-451b-b9a3-d2982cf49645",
   "metadata": {},
   "outputs": [],
   "source": []
  }
 ],
 "metadata": {
  "kernelspec": {
   "display_name": "Python 3 (ipykernel)",
   "language": "python",
   "name": "python3"
  },
  "language_info": {
   "codemirror_mode": {
    "name": "ipython",
    "version": 3
   },
   "file_extension": ".py",
   "mimetype": "text/x-python",
   "name": "python",
   "nbconvert_exporter": "python",
   "pygments_lexer": "ipython3",
   "version": "3.12.7"
  }
 },
 "nbformat": 4,
 "nbformat_minor": 5
}
