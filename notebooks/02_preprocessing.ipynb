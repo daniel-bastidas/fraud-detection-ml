{
 "cells": [
  {
   "cell_type": "markdown",
   "id": "fcec5d80",
   "metadata": {},
   "source": [
    "# 02_preprocessing_local_v2.ipynb\n",
    "\n",
    "Preprocesamiento basado en hallazgos de la EDA.\n",
    "\n",
    "- `o` se descarta (72% nulos).\n",
    "- `monto` → `log1p` para estabilizar cola larga.\n",
    "- `g`: rare bucketing + codificación de frecuencia. Artefactos guardados.\n",
    "- `j`: target encoding con smoothing, ajustado **sólo en TRAIN**. Artefactos guardados.\n",
    "- `p`: binaria {Y=1, N=0}.\n",
    "- Split estratificado 70/15/15 (train/val/test).\n",
    "- Scaling (aunque no requerido por arboles) para mostrar uso de artefactos.\n"
   ]
  },
  {
   "cell_type": "code",
   "execution_count": 1,
   "id": "65d5dca6",
   "metadata": {},
   "outputs": [],
   "source": [
    "import os, joblib\n",
    "import numpy as np\n",
    "import pandas as pd\n",
    "from sklearn.model_selection import train_test_split\n",
    "from sklearn.preprocessing import StandardScaler"
   ]
  },
  {
   "cell_type": "code",
   "execution_count": 3,
   "id": "8d1a7ebb-dfaf-4622-a77a-67fcf61090d5",
   "metadata": {},
   "outputs": [],
   "source": [
    "# --- Paths ---\n",
    "RAW_PATH = \"./MeLiFraud.csv\"\n",
    "ARTIFACTS_DIR = \"./\"\n",
    "PROCESSED_DIR = \"./\"\n",
    "\n",
    "os.makedirs(ARTIFACTS_DIR, exist_ok=True)\n",
    "os.makedirs(PROCESSED_DIR, exist_ok=True)"
   ]
  },
  {
   "cell_type": "code",
   "execution_count": 5,
   "id": "5544c26a-462f-4f5d-a77d-8716b4b65da4",
   "metadata": {},
   "outputs": [],
   "source": [
    "# --- Useful vars ---\n",
    "TARGET = \"fraude\"\n",
    "RANDOM_STATE = 42"
   ]
  },
  {
   "cell_type": "code",
   "execution_count": 7,
   "id": "3cb116c5",
   "metadata": {},
   "outputs": [
    {
     "name": "stdout",
     "output_type": "stream",
     "text": [
      "Shape raw: (150000, 19)\n"
     ]
    },
    {
     "data": {
      "text/html": [
       "<div>\n",
       "<style scoped>\n",
       "    .dataframe tbody tr th:only-of-type {\n",
       "        vertical-align: middle;\n",
       "    }\n",
       "\n",
       "    .dataframe tbody tr th {\n",
       "        vertical-align: top;\n",
       "    }\n",
       "\n",
       "    .dataframe thead th {\n",
       "        text-align: right;\n",
       "    }\n",
       "</style>\n",
       "<table border=\"1\" class=\"dataframe\">\n",
       "  <thead>\n",
       "    <tr style=\"text-align: right;\">\n",
       "      <th></th>\n",
       "      <th>a</th>\n",
       "      <th>b</th>\n",
       "      <th>c</th>\n",
       "      <th>d</th>\n",
       "      <th>e</th>\n",
       "      <th>f</th>\n",
       "      <th>g</th>\n",
       "      <th>h</th>\n",
       "      <th>j</th>\n",
       "      <th>k</th>\n",
       "      <th>l</th>\n",
       "      <th>m</th>\n",
       "      <th>n</th>\n",
       "      <th>o</th>\n",
       "      <th>p</th>\n",
       "      <th>fecha</th>\n",
       "      <th>monto</th>\n",
       "      <th>score</th>\n",
       "      <th>fraude</th>\n",
       "    </tr>\n",
       "  </thead>\n",
       "  <tbody>\n",
       "    <tr>\n",
       "      <th>0</th>\n",
       "      <td>4</td>\n",
       "      <td>0.6812</td>\n",
       "      <td>50084.12</td>\n",
       "      <td>50.0</td>\n",
       "      <td>0.0</td>\n",
       "      <td>20.0</td>\n",
       "      <td>AR</td>\n",
       "      <td>1</td>\n",
       "      <td>cat_d26ab52</td>\n",
       "      <td>0.365475</td>\n",
       "      <td>2479.0</td>\n",
       "      <td>952.0</td>\n",
       "      <td>1</td>\n",
       "      <td>NaN</td>\n",
       "      <td>Y</td>\n",
       "      <td>2020-03-20 09:28:19</td>\n",
       "      <td>57.63</td>\n",
       "      <td>100</td>\n",
       "      <td>0</td>\n",
       "    </tr>\n",
       "    <tr>\n",
       "      <th>1</th>\n",
       "      <td>4</td>\n",
       "      <td>0.6694</td>\n",
       "      <td>66005.49</td>\n",
       "      <td>0.0</td>\n",
       "      <td>0.0</td>\n",
       "      <td>2.0</td>\n",
       "      <td>AR</td>\n",
       "      <td>1</td>\n",
       "      <td>cat_ea962fb</td>\n",
       "      <td>0.612728</td>\n",
       "      <td>2603.0</td>\n",
       "      <td>105.0</td>\n",
       "      <td>1</td>\n",
       "      <td>Y</td>\n",
       "      <td>Y</td>\n",
       "      <td>2020-03-09 13:58:28</td>\n",
       "      <td>40.19</td>\n",
       "      <td>25</td>\n",
       "      <td>0</td>\n",
       "    </tr>\n",
       "  </tbody>\n",
       "</table>\n",
       "</div>"
      ],
      "text/plain": [
       "   a       b         c     d    e     f   g  h            j         k       l  \\\n",
       "0  4  0.6812  50084.12  50.0  0.0  20.0  AR  1  cat_d26ab52  0.365475  2479.0   \n",
       "1  4  0.6694  66005.49   0.0  0.0   2.0  AR  1  cat_ea962fb  0.612728  2603.0   \n",
       "\n",
       "       m  n    o  p                fecha  monto  score  fraude  \n",
       "0  952.0  1  NaN  Y  2020-03-20 09:28:19  57.63    100       0  \n",
       "1  105.0  1    Y  Y  2020-03-09 13:58:28  40.19     25       0  "
      ]
     },
     "execution_count": 7,
     "metadata": {},
     "output_type": "execute_result"
    }
   ],
   "source": [
    "# --- Cargar raw data ---\n",
    "df = pd.read_csv(RAW_PATH)\n",
    "print(\"Shape raw:\", df.shape)\n",
    "df.head(2)"
   ]
  },
  {
   "cell_type": "code",
   "execution_count": 9,
   "id": "09e3c2d1",
   "metadata": {},
   "outputs": [],
   "source": [
    "# --- Limpiezas basicas ---\n",
    "df = df.drop(columns=[\"o\"])\n",
    "df[\"fecha\"] = pd.to_datetime(df[\"fecha\"], errors=\"coerce\")\n",
    "df[\"p\"] = df[\"p\"].map({\"Y\":1, \"N\":0})"
   ]
  },
  {
   "cell_type": "code",
   "execution_count": 11,
   "id": "071b5edd",
   "metadata": {},
   "outputs": [
    {
     "name": "stdout",
     "output_type": "stream",
     "text": [
      "Train: (105000, 17)  Val: (22500, 17)  Test: (22500, 17)\n"
     ]
    }
   ],
   "source": [
    "# --- Split estratificado 70/15/15 ---\n",
    "y = df[TARGET].astype(int)\n",
    "X = df.drop(columns=[TARGET])\n",
    "\n",
    "X_train, X_temp, y_train, y_temp = train_test_split(\n",
    "    X, y, test_size=0.30, random_state=RANDOM_STATE, stratify=y\n",
    ")\n",
    "X_val, X_test, y_val, y_test = train_test_split(\n",
    "    X_temp, y_temp, test_size=0.50, random_state=RANDOM_STATE, stratify=y_temp\n",
    ")\n",
    "\n",
    "print(\"Train:\", X_train.shape, \" Val:\", X_val.shape, \" Test:\", X_test.shape)"
   ]
  },
  {
   "cell_type": "code",
   "execution_count": 13,
   "id": "26636628-4fca-4d6f-b43c-93723957a609",
   "metadata": {},
   "outputs": [],
   "source": [
    "# monto_raw para ganancia (no se usa como feature)\n",
    "for part in (X_train, X_val, X_test):\n",
    "    part[\"monto_raw\"] = part[\"monto\"].astype(float)"
   ]
  },
  {
   "cell_type": "code",
   "execution_count": 15,
   "id": "53469653",
   "metadata": {},
   "outputs": [
    {
     "name": "stdout",
     "output_type": "stream",
     "text": [
      "Artefacto g guardado\n"
     ]
    }
   ],
   "source": [
    "# --- g: rare bucketing + frequency encoding ---\n",
    "RARE_THRESHOLD = 500 # Corte para englobar otros paises en \"other\"\n",
    "\n",
    "def fit_g_frequency(col, rare_threshold=RARE_THRESHOLD):\n",
    "    vc = col.value_counts(dropna=False)\n",
    "    rare = vc[vc < rare_threshold].index.tolist()\n",
    "    col_clean = col.where(~col.isin(rare), other=\"Other\").fillna(\"Missing\")\n",
    "    freq_map = col_clean.value_counts(normalize=True).to_dict()\n",
    "    return {\"rare\": rare, \"freq_map\": freq_map}\n",
    "\n",
    "def transform_g_frequency(col, art):\n",
    "    col_clean = col.where(~col.isin(art[\"rare\"]), other=\"Other\").fillna(\"Missing\")\n",
    "    return col_clean.map(art[\"freq_map\"]).fillna(0.0)\n",
    "\n",
    "g_art = fit_g_frequency(X_train[\"g\"])\n",
    "X_train[\"g_freq\"] = transform_g_frequency(X_train[\"g\"], g_art)\n",
    "X_val[\"g_freq\"]   = transform_g_frequency(X_val[\"g\"], g_art)\n",
    "X_test[\"g_freq\"]  = transform_g_frequency(X_test[\"g\"], g_art)\n",
    "\n",
    "joblib.dump(g_art, os.path.join(ARTIFACTS_DIR, \"g_encoding.joblib\"))\n",
    "print(\"Artefacto g guardado\")"
   ]
  },
  {
   "cell_type": "code",
   "execution_count": 17,
   "id": "2e134ed2",
   "metadata": {},
   "outputs": [
    {
     "name": "stdout",
     "output_type": "stream",
     "text": [
      "Artefacto j guardado\n"
     ]
    }
   ],
   "source": [
    "# --- j: target encoding con smoothing ---\n",
    "def fit_target_encoding(series, y, m=200):\n",
    "    global_mean = float(y.mean())\n",
    "    df_tmp = pd.DataFrame({\"cat\": series.fillna(\"Missing\"), \"y\": y.values})\n",
    "    stats = df_tmp.groupby(\"cat\")[\"y\"].agg([\"mean\",\"count\"])\n",
    "    te = ((stats[\"mean\"] * stats[\"count\"]) + global_mean * m) / (stats[\"count\"] + m)\n",
    "    return {\"map\": te.to_dict(), \"global_mean\": global_mean, \"m\": m}\n",
    "\n",
    "def transform_target_encoding(series, art):\n",
    "    return series.fillna(\"Missing\").map(art[\"map\"]).fillna(art[\"global_mean\"])\n",
    "\n",
    "j_art = fit_target_encoding(X_train[\"j\"], y_train, m=200)\n",
    "X_train[\"j_te\"] = transform_target_encoding(X_train[\"j\"], j_art)\n",
    "X_val[\"j_te\"]   = transform_target_encoding(X_val[\"j\"], j_art)\n",
    "X_test[\"j_te\"]  = transform_target_encoding(X_test[\"j\"], j_art)\n",
    "\n",
    "joblib.dump(j_art, os.path.join(ARTIFACTS_DIR, \"j_target_encoding.joblib\"))\n",
    "print(\"Artefacto j guardado\")"
   ]
  },
  {
   "cell_type": "code",
   "execution_count": 19,
   "id": "c591344b",
   "metadata": {},
   "outputs": [],
   "source": [
    "# --- Feature engineering e imputacion ---\n",
    "for part in (X_train, X_val, X_test):\n",
    "    part[\"monto_log1p\"] = np.log1p(np.clip(part[\"monto\"].astype(float), a_min=0, a_max=None))\n",
    "    num_cols = part.select_dtypes(include=[np.number]).columns.tolist()\n",
    "    for c in num_cols:\n",
    "        part[c] = part[c].fillna(part[c].median())"
   ]
  },
  {
   "cell_type": "code",
   "execution_count": 21,
   "id": "f35458c7-ab58-458e-b91e-48ce5af789c4",
   "metadata": {},
   "outputs": [
    {
     "name": "stdout",
     "output_type": "stream",
     "text": [
      "Scaler guardado\n"
     ]
    }
   ],
   "source": [
    "# --- Scaling (fit en TRAIN, aplicar en VAL/TEST) ---\n",
    "final_cols = [c for c in X_train.select_dtypes(include=[np.number]).columns if c not in [\"monto_raw\",\"monto\"]]\n",
    "\n",
    "scaler = StandardScaler().fit(X_train[final_cols])\n",
    "\n",
    "X_train_scaled = pd.DataFrame(scaler.transform(X_train[final_cols]), columns=final_cols)\n",
    "X_val_scaled   = pd.DataFrame(scaler.transform(X_val[final_cols]),   columns=final_cols)\n",
    "X_test_scaled  = pd.DataFrame(scaler.transform(X_test[final_cols]),  columns=final_cols)\n",
    "\n",
    "joblib.dump(scaler, os.path.join(ARTIFACTS_DIR, \"scaler.pkl\"))\n",
    "print(\"Scaler guardado\")"
   ]
  },
  {
   "cell_type": "code",
   "execution_count": 23,
   "id": "086ea86c",
   "metadata": {},
   "outputs": [
    {
     "name": "stdout",
     "output_type": "stream",
     "text": [
      "Procesados guardados (incluyen monto_raw).\n"
     ]
    }
   ],
   "source": [
    "# --- Guardar datasets procesados (comentado para revisión) ---\n",
    "train_out = X_train_scaled.copy(); train_out[\"monto_raw\"] = X_train[\"monto_raw\"].values; train_out[TARGET] = y_train.values\n",
    "val_out   = X_val_scaled.copy();   val_out[\"monto_raw\"]   = X_val[\"monto_raw\"].values;   val_out[TARGET]   = y_val.values\n",
    "test_out  = X_test_scaled.copy();  test_out[\"monto_raw\"]  = X_test[\"monto_raw\"].values;  test_out[TARGET]  = y_test.values\n",
    "\n",
    "train_out.to_csv(os.path.join(PROCESSED_DIR, \"train_processed.csv\"), index=False)\n",
    "val_out.to_csv(os.path.join(PROCESSED_DIR, \"val_processed.csv\"), index=False)\n",
    "test_out.to_csv(os.path.join(PROCESSED_DIR, \"test_processed.csv\"), index=False)\n",
    "print(\"Procesados guardados (incluyen monto_raw).\")"
   ]
  },
  {
   "cell_type": "code",
   "execution_count": null,
   "id": "dbe5e234-aa00-428b-ae18-4a143ef9d24b",
   "metadata": {},
   "outputs": [],
   "source": []
  }
 ],
 "metadata": {
  "kernelspec": {
   "display_name": "Python 3 (ipykernel)",
   "language": "python",
   "name": "python3"
  },
  "language_info": {
   "codemirror_mode": {
    "name": "ipython",
    "version": 3
   },
   "file_extension": ".py",
   "mimetype": "text/x-python",
   "name": "python",
   "nbconvert_exporter": "python",
   "pygments_lexer": "ipython3",
   "version": "3.12.7"
  }
 },
 "nbformat": 4,
 "nbformat_minor": 5
}
